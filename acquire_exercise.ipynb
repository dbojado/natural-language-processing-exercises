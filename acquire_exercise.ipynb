{
 "cells": [
  {
   "cell_type": "markdown",
   "metadata": {},
   "source": [
    "# Acquire Exercise"
   ]
  },
  {
   "cell_type": "markdown",
   "metadata": {},
   "source": [
    "### Imports"
   ]
  },
  {
   "cell_type": "code",
   "execution_count": 1,
   "metadata": {},
   "outputs": [],
   "source": [
    "import re\n",
    "import pandas as pd\n",
    "from requests import get\n",
    "from bs4 import BeautifulSoup\n",
    "import os"
   ]
  },
  {
   "cell_type": "markdown",
   "metadata": {},
   "source": [
    "### 1. Codeup Blog Articles\n",
    "\n",
    "Scrape the article text from the following pages:\n",
    "\n",
    "- https://codeup.com/codeups-data-science-career-accelerator-is-here/  \n",
    "\n",
    "- https://codeup.com/data-science-myths/    \n",
    "\n",
    "- https://codeup.com/data-science-vs-data-analytics-whats-the-difference/  \n",
    "\n",
    "- https://codeup.com/10-tips-to-crush-it-at-the-sa-tech-job-fair/  \n",
    "\n",
    "- https://codeup.com/competitor-bootcamps-are-closing-is-the-model-in-danger/  \n",
    "\n",
    "Encapsulate your work in a function named get_blog_articles that will return a list of dictionaries, with each dictionary representing one article. The shape of each dictionary should look like this:\n",
    "\n",
    "{  \n",
    "    'title': 'the title of the article',\n",
    "    'content': 'the full text content of the article'  \n",
    "}\n",
    "\n",
    "Plus any additional properties you think might be helpful.\n",
    "\n",
    "### Bonus:\n",
    "\n",
    "Scrape the text of all the articles linked on codeup's blog page."
   ]
  },
  {
   "cell_type": "code",
   "execution_count": null,
   "metadata": {},
   "outputs": [],
   "source": [
    "def get_blog_articles(): \n",
    "    {  \n",
    "    'title': 'Codeup’s Data Science Career Accelerator is Here!',\n",
    "    'content': 'the full text content of the article',\n",
    "        \n",
    "    'title': 'Data Science Myths',\n",
    "    'content': 'the full text content of the article' \n",
    "        \n",
    "    'title': 'Data Science VS Data Analytics: What’s The Difference?',\n",
    "    'content': 'the full text content of the article' \n",
    "    \n",
    "    'title': '10 Tips to Crush It at the SA Tech Job Fair',\n",
    "    'content': 'the full text content of the article' \n",
    "        \n",
    "    'title': 'Competitor Bootcamps Are Closing. Is the Model in Danger?',\n",
    "    'content': 'the full text content of the article' \n",
    "        \n",
    "}\n",
    "    return df"
   ]
  },
  {
   "cell_type": "markdown",
   "metadata": {},
   "source": [
    "### 2. News Articles\n",
    "\n",
    "We will now be scraping text data from inshorts, a website that provides a brief overview of many different topics.\n",
    "\n",
    "Write a function that scrapes the news articles for the following topics:\n",
    "\n",
    "- Business\n",
    "- Sports\n",
    "- Technology\n",
    "- Entertainment  \n",
    "\n",
    "The end product of this should be a function named get_news_articles that returns a list of dictionaries, where each dictionary has this shape:\n",
    "\n",
    "{  \n",
    "    'title': 'The article title',\n",
    "    'content': 'The article content',\n",
    "    'category': 'business' # for example  \n",
    "}\n",
    "\n",
    "### Hints:\n",
    "\n",
    "a. Start by inspecting the website in your browser. Figure out which elements will be useful.  \n",
    "\n",
    "b. Start by creating a function that handles a single article and produces a dictionary like the one above.  \n",
    "\n",
    "c. Next create a function that will find all the articles on a single page and call the function you created in the last step for every article on the page.  \n",
    "\n",
    "d. Now create a function that will use the previous two functions to scrape the articles from all the pages that you need, and do any additional processing that needs to be done. "
   ]
  },
  {
   "cell_type": "code",
   "execution_count": null,
   "metadata": {},
   "outputs": [],
   "source": [
    "def get_news_articles(): \n",
    "    {  \n",
    "    'title': 'The article title',\n",
    "    'content': 'The article content',\n",
    "    'category': 'business', \n",
    "        \n",
    "    'title': 'The article title',\n",
    "    'content': 'The article content',\n",
    "    'category': 'business', \n",
    "        \n",
    "    'title': 'The article title',\n",
    "    'content': 'The article content',\n",
    "    'category': 'business', \n",
    "    \n",
    "    'title': 'The article title',\n",
    "    'content': 'The article content',\n",
    "    'category': 'business', \n",
    "        \n",
    "}\n",
    "    return df"
   ]
  },
  {
   "cell_type": "markdown",
   "metadata": {},
   "source": [
    "#### Bonus: Cache the Data\n",
    "\n",
    "Write your code such that the acquired data is saved locally in some form or fashion. Your functions that retrieve the data should prefer to read the local data instead of having to make all the requests everytime the function is called. Include a boolean flag in the functions to allow the data to be acquired \"fresh\" from the actual sources (re-writing your local cache)."
   ]
  },
  {
   "cell_type": "code",
   "execution_count": null,
   "metadata": {},
   "outputs": [],
   "source": []
  }
 ],
 "metadata": {
  "kernelspec": {
   "display_name": "Python 3",
   "language": "python",
   "name": "python3"
  },
  "language_info": {
   "codemirror_mode": {
    "name": "ipython",
    "version": 3
   },
   "file_extension": ".py",
   "mimetype": "text/x-python",
   "name": "python",
   "nbconvert_exporter": "python",
   "pygments_lexer": "ipython3",
   "version": "3.7.6"
  }
 },
 "nbformat": 4,
 "nbformat_minor": 4
}
